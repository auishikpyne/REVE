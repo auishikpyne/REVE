{
 "cells": [
  {
   "cell_type": "code",
   "execution_count": 1,
   "id": "d94f916a",
   "metadata": {},
   "outputs": [
    {
     "name": "stderr",
     "output_type": "stream",
     "text": [
      "/tmp/ipykernel_30584/2877320562.py:3: WavFileWarning: Chunk (non-data) not understood, skipping it.\n",
      "  samplerate, data = wavfile.read('/home/auishik/Documents/10small.wav')\n"
     ]
    }
   ],
   "source": [
    "import os\n",
    "from scipy.io import wavfile\n",
    "samplerate, data = wavfile.read('/home/auishik/Documents/10small.wav')"
   ]
  },
  {
   "cell_type": "code",
   "execution_count": 2,
   "id": "c36ecc7d",
   "metadata": {},
   "outputs": [
    {
     "data": {
      "text/plain": [
       "13988456"
      ]
     },
     "execution_count": 2,
     "metadata": {},
     "output_type": "execute_result"
    }
   ],
   "source": [
    "file_size = os.path.getsize('/home/auishik/Documents/10small.wav')\n",
    "file_size"
   ]
  },
  {
   "cell_type": "code",
   "execution_count": 3,
   "id": "a16a2306",
   "metadata": {
    "scrolled": true
   },
   "outputs": [
    {
     "name": "stdout",
     "output_type": "stream",
     "text": [
      "The data value transmitted exceeds the capacity limit.\n"
     ]
    }
   ],
   "source": [
    "if file_size > 12 * 1024 * 1024:\n",
    "    print('The data value transmitted exceeds the capacity limit.')\n",
    "else:\n",
    "    pass"
   ]
  },
  {
   "cell_type": "code",
   "execution_count": 5,
   "id": "69c2aefa",
   "metadata": {},
   "outputs": [],
   "source": [
    "file_name, file_extension = os.path.splitext(\"/home/auishik/Documents/10small.wav\")"
   ]
  },
  {
   "cell_type": "code",
   "execution_count": 1,
   "id": "d60e6b15",
   "metadata": {},
   "outputs": [
    {
     "name": "stdout",
     "output_type": "stream",
     "text": [
      "This is not a WAV file. Please upload a .WAV file.\n"
     ]
    }
   ],
   "source": [
    "import wave\n",
    "try:\n",
    "    file = wave.open('/home/auishik/Downloads/2603.mp3', mode = 'rb')\n",
    "except:\n",
    "    print('This is not a WAV file. Please upload a .WAV file.')"
   ]
  },
  {
   "cell_type": "code",
   "execution_count": 36,
   "id": "1f598de5",
   "metadata": {},
   "outputs": [
    {
     "data": {
      "text/plain": [
       "_wave_params(nchannels=2, sampwidth=2, framerate=48000, nframes=3497079, comptype='NONE', compname='not compressed')"
      ]
     },
     "execution_count": 36,
     "metadata": {},
     "output_type": "execute_result"
    }
   ],
   "source": [
    "from wave import Wave_read\n",
    "Wave_read.getparams(file)"
   ]
  },
  {
   "cell_type": "code",
   "execution_count": 41,
   "id": "664ed4c2",
   "metadata": {},
   "outputs": [],
   "source": []
  },
  {
   "cell_type": "code",
   "execution_count": null,
   "id": "eac906a4",
   "metadata": {},
   "outputs": [],
   "source": []
  },
  {
   "cell_type": "code",
   "execution_count": null,
   "id": "73326d78",
   "metadata": {},
   "outputs": [],
   "source": []
  }
 ],
 "metadata": {
  "kernelspec": {
   "display_name": "Python 3 (ipykernel)",
   "language": "python",
   "name": "python3"
  },
  "language_info": {
   "codemirror_mode": {
    "name": "ipython",
    "version": 3
   },
   "file_extension": ".py",
   "mimetype": "text/x-python",
   "name": "python",
   "nbconvert_exporter": "python",
   "pygments_lexer": "ipython3",
   "version": "3.10.4"
  }
 },
 "nbformat": 4,
 "nbformat_minor": 5
}
